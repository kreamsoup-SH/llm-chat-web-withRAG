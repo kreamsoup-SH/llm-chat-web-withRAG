{
 "cells": [
  {
   "cell_type": "code",
   "execution_count": null,
   "metadata": {},
   "outputs": [],
   "source": [
    "Compare two answers\n",
    "'''\n",
    "When is the Move-in date of seoultech dormitory?\n",
    "'''"
   ]
  },
  {
   "cell_type": "code",
   "execution_count": 2,
   "metadata": {},
   "outputs": [
    {
     "name": "stdout",
     "output_type": "stream",
     "text": [
      "\u001b[0m\n",
      "\u001b[34m\u001b[1m  You can now view your Streamlit app in your browser.\u001b[0m\n",
      "\u001b[0m\n",
      "\u001b[34m  Local URL: \u001b[0m\u001b[1mhttp://localhost:8502\u001b[0m\n",
      "\u001b[34m  Network URL: \u001b[0m\u001b[1mhttp://172.22.27.115:8502\u001b[0m\n",
      "\u001b[0m\n",
      "tcgetpgrp failed: Not a tty\n",
      "Loading checkpoint shards: 100%|██████████████████| 2/2 [00:02<00:00,  1.43s/it]\n",
      "/home/kreamsoup/miniconda3/envs/capstone/lib/python3.10/site-packages/transformers/utils/hub.py:374: FutureWarning: The `use_auth_token` argument is deprecated and will be removed in v5 of Transformers. Please use `token` instead.\n",
      "  warnings.warn(\n",
      "/home/kreamsoup/miniconda3/envs/capstone/lib/python3.10/site-packages/bitsandbytes/nn/modules.py:226: UserWarning: Input type into Linear4bit is torch.float16, but bnb_4bit_compute_type=torch.float32 (default). This will lead to slow inference or training speed.\n",
      "  warnings.warn(f'Input type into Linear4bit is torch.float16, but bnb_4bit_compute_type=torch.float32 (default). This will lead to slow inference or training speed.')\n",
      " Hello! I'm happy to help you with your inquiry. However, I must inform you that SeoulTech Dormitory is a fictional entity, and therefore, it does not have a move-in date. SeoulTech is a non-existent institution, and it does not offer dormitory services.\n",
      "\n",
      "I apologize for any confusion, and I hope you understand. If you have any other questions or concerns, please feel free to ask!\n"
     ]
    }
   ],
   "source": [
    "!python -m streamlit run webui-classic.py"
   ]
  },
  {
   "cell_type": "code",
   "execution_count": null,
   "metadata": {},
   "outputs": [],
   "source": [
    "!python -m streamlit run webui-RAG-whisper.py"
   ]
  }
 ],
 "metadata": {
  "kernelspec": {
   "display_name": "capstone",
   "language": "python",
   "name": "python3"
  },
  "language_info": {
   "codemirror_mode": {
    "name": "ipython",
    "version": 3
   },
   "file_extension": ".py",
   "mimetype": "text/x-python",
   "name": "python",
   "nbconvert_exporter": "python",
   "pygments_lexer": "ipython3",
   "version": "3.10.13"
  }
 },
 "nbformat": 4,
 "nbformat_minor": 2
}
